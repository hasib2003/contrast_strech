{
 "cells": [
  {
   "cell_type": "code",
   "execution_count": 1,
   "metadata": {},
   "outputs": [
    {
     "data": {
      "text/plain": [
       "'\\nThis notebook contains the implementation of various techniques that can be used to strech low contrast images\\n'"
      ]
     },
     "execution_count": 1,
     "metadata": {},
     "output_type": "execute_result"
    }
   ],
   "source": [
    "\"\"\"\n",
    "This notebook contains the implementation of various techniques that can be used to strech low contrast images\n",
    "\"\"\""
   ]
  },
  {
   "cell_type": "code",
   "execution_count": 2,
   "metadata": {},
   "outputs": [],
   "source": [
    "import cv2 as cv\n",
    "import numpy as np;"
   ]
  },
  {
   "cell_type": "code",
   "execution_count": 55,
   "metadata": {},
   "outputs": [],
   "source": [
    "#reading the image\n",
    "wikiImg = cv.imread(\"./wiki.jpg\");\n"
   ]
  },
  {
   "cell_type": "code",
   "execution_count": 56,
   "metadata": {},
   "outputs": [],
   "source": [
    "#reading the image\n",
    "lowcon = cv.imread(\"./lowcon.tif\");\n"
   ]
  },
  {
   "cell_type": "code",
   "execution_count": 57,
   "metadata": {},
   "outputs": [],
   "source": [
    "# using the grayscael image to reduce complexity\n",
    "wikiGray = cv.cvtColor(wikiImg,cv.COLOR_RGB2GRAY);\n",
    "\n"
   ]
  },
  {
   "cell_type": "code",
   "execution_count": 58,
   "metadata": {},
   "outputs": [],
   "source": [
    "# defining a simple function for streching the contrast\n",
    "def strech(pixel,Smin,Smax,Imin,Imax):\n",
    "    float \n",
    "    return (((Smax-Smin)/(Imax-Imin))*(pixel - Imin) + Smin).astype(np.uint8)\n",
    "\n",
    "# converting it in to the vector function\n",
    "\n",
    "vStrech = np.vectorize(strech)\n",
    "\n"
   ]
  },
  {
   "cell_type": "code",
   "execution_count": 41,
   "metadata": {},
   "outputs": [],
   "source": []
  },
  {
   "cell_type": "code",
   "execution_count": 59,
   "metadata": {},
   "outputs": [],
   "source": [
    "# enhancing the contrast\n",
    "Smin = 0;\n",
    "Smax = 255;\n",
    "\n",
    "Imax = np.max(wikiGray);\n",
    "Imin = np.min(wikiGray);\n",
    "\n",
    "enhancedWiki = vStrech(wikiGray,Smin,Smax,Imin,Imax)\n"
   ]
  },
  {
   "cell_type": "code",
   "execution_count": 61,
   "metadata": {},
   "outputs": [],
   "source": [
    "# enhancing the contrast\n",
    "Smin = 0;\n",
    "Smax = 255;\n",
    "\n",
    "Imax = np.max(lowcon);\n",
    "Imin = np.min(lowcon);\n",
    "\n",
    "enhancedBean = vStrech(lowcon,Smin,Smax,Imin,Imax)\n"
   ]
  },
  {
   "cell_type": "code",
   "execution_count": 60,
   "metadata": {},
   "outputs": [],
   "source": [
    "def show(prompt,img):\n",
    "    cv.namedWindow(prompt, cv.WINDOW_NORMAL)\n",
    "    cv.imshow(prompt, img)\n",
    "    cv.waitKey(0) \n",
    "    cv.destroyAllWindows()\n"
   ]
  },
  {
   "cell_type": "code",
   "execution_count": null,
   "metadata": {},
   "outputs": [],
   "source": []
  },
  {
   "cell_type": "code",
   "execution_count": 62,
   "metadata": {},
   "outputs": [],
   "source": [
    "show(\"original image\",wikiImg)\n",
    "show(\"enhanced wiki image\",enhancedWiki)\n"
   ]
  },
  {
   "cell_type": "code",
   "execution_count": 63,
   "metadata": {},
   "outputs": [],
   "source": [
    "show(\"original image\",lowcon)\n",
    "show(\"enhanced wiki image\",enhancedBean)\n"
   ]
  },
  {
   "cell_type": "code",
   "execution_count": 64,
   "metadata": {},
   "outputs": [
    {
     "data": {
      "text/plain": [
       "True"
      ]
     },
     "execution_count": 64,
     "metadata": {},
     "output_type": "execute_result"
    }
   ],
   "source": [
    "cv.imwrite(\"enh_wiki_by_func.jpg\",enhancedWiki)\n",
    "cv.imwrite(\"enh_bean_by_func.jpg\",enhancedBean)\n",
    "\n"
   ]
  }
 ],
 "metadata": {
  "kernelspec": {
   "display_name": "Python 3",
   "language": "python",
   "name": "python3"
  },
  "language_info": {
   "codemirror_mode": {
    "name": "ipython",
    "version": 3
   },
   "file_extension": ".py",
   "mimetype": "text/x-python",
   "name": "python",
   "nbconvert_exporter": "python",
   "pygments_lexer": "ipython3",
   "version": "3.10.12"
  }
 },
 "nbformat": 4,
 "nbformat_minor": 2
}
