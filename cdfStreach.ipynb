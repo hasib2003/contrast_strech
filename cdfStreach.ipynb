{
 "cells": [
  {
   "cell_type": "code",
   "execution_count": 20,
   "metadata": {},
   "outputs": [
    {
     "data": {
      "text/plain": [
       "'\\nThis notebook implemenets the CDF based histogram equalization \\n'"
      ]
     },
     "execution_count": 20,
     "metadata": {},
     "output_type": "execute_result"
    }
   ],
   "source": [
    "\"\"\"\n",
    "This notebook implemenets the CDF based histogram equalization \n",
    "\"\"\""
   ]
  },
  {
   "cell_type": "code",
   "execution_count": 21,
   "metadata": {},
   "outputs": [],
   "source": [
    "import cv2 as cv;\n",
    "import numpy as np;"
   ]
  },
  {
   "cell_type": "code",
   "execution_count": 22,
   "metadata": {},
   "outputs": [],
   "source": [
    "probabilties = {}"
   ]
  },
  {
   "cell_type": "code",
   "execution_count": 23,
   "metadata": {},
   "outputs": [],
   "source": [
    "def show(prompt,img):\n",
    "    cv.namedWindow(prompt, cv.WINDOW_NORMAL)\n",
    "    cv.imshow(prompt, img)\n",
    "    cv.waitKey(0) \n",
    "    cv.destroyAllWindows()\n"
   ]
  },
  {
   "cell_type": "code",
   "execution_count": 24,
   "metadata": {},
   "outputs": [],
   "source": [
    "cdfDict = {};"
   ]
  },
  {
   "cell_type": "code",
   "execution_count": null,
   "metadata": {},
   "outputs": [],
   "source": []
  },
  {
   "cell_type": "code",
   "execution_count": 25,
   "metadata": {},
   "outputs": [],
   "source": [
    "img = cv.imread(\"wiki.jpg\");\n"
   ]
  },
  {
   "cell_type": "code",
   "execution_count": 26,
   "metadata": {},
   "outputs": [],
   "source": [
    "imgGray = cv.cvtColor(img,cv.COLOR_RGB2GRAY)"
   ]
  },
  {
   "cell_type": "code",
   "execution_count": 27,
   "metadata": {},
   "outputs": [],
   "source": [
    "img  = imgGray\n",
    "def probability(value):\n",
    "    count =   np.count_nonzero(img == value)/(img.shape[0]*img.shape[1])\n",
    "    # setting value in dictionary for future use\n",
    "    probabilties[value] = count;\n",
    "    # print(f\"prob({value }) =  {count}\")\n",
    "\n",
    "def getProbabilty(value):\n",
    "\n",
    "    if(value not in probabilties.keys()):\n",
    "        return probability(value);\n",
    "    return probabilties[value]\n",
    "\n",
    "def getCommulativeProbabilty(value):\n",
    "    \n",
    "    valueArr = list(probabilties.values());\n",
    "    keys = list(probabilties.keys());\n",
    "\n",
    "    idx = keys.index(value);\n",
    "    cdfVal = 0;\n",
    "    for i in range(idx+1):\n",
    "        cdfVal += valueArr[i];\n",
    "    \n",
    "    cdfDict[value] = cdfVal;\n",
    "    return cdfVal;\n",
    "\n"
   ]
  },
  {
   "cell_type": "code",
   "execution_count": 28,
   "metadata": {},
   "outputs": [],
   "source": [
    "vGetProbabilty = np.vectorize(getProbabilty);\n",
    "vGetCdf = np.vectorize(getCommulativeProbabilty)"
   ]
  },
  {
   "cell_type": "code",
   "execution_count": 29,
   "metadata": {},
   "outputs": [
    {
     "data": {
      "text/plain": [
       "array([[0.056212933394160586, None, None, ..., 0.02597513686131387,\n",
       "        0.025932367700729927, 0.0028370209854014596],\n",
       "       [0.03190579379562044, 0.025875342153284672, 0.04546361770072993,\n",
       "        ..., 0.023594320255474453, 0.015482436131386862,\n",
       "        0.001739279197080292],\n",
       "       [0.025918111313868612, 0.025533188868613138, 0.025918111313868612,\n",
       "        ..., 0.01285926094890511, 0.006757527372262774,\n",
       "        0.002295278284671533],\n",
       "       ...,\n",
       "       [0.01474110401459854, 0.012089416058394161, 0.012089416058394161,\n",
       "        ..., 0.028384466240875914, 0.02531934306569343,\n",
       "        0.0024520985401459854],\n",
       "       [0.007669936131386861, 0.009623061131386862, 0.012089416058394161,\n",
       "        ..., 0.025875342153284672, 0.023123859489051095,\n",
       "        0.0023237910583941606],\n",
       "       [0.006386861313868613, 0.007669936131386861, 0.01474110401459854,\n",
       "        ..., 0.024905907846715328, 0.025932367700729927,\n",
       "        0.001967381386861314]], dtype=object)"
      ]
     },
     "execution_count": 29,
     "metadata": {},
     "output_type": "execute_result"
    }
   ],
   "source": [
    "vGetProbabilty(imgGray)"
   ]
  },
  {
   "cell_type": "code",
   "execution_count": 30,
   "metadata": {},
   "outputs": [
    {
     "data": {
      "text/plain": [
       "array([[0.05621293, 0.10167655, 0.12876369, ..., 0.15473882, 0.49897354,\n",
       "        0.68487682],\n",
       "       [0.57962192, 0.74300011, 0.10167655, ..., 0.47304117, 0.40662067,\n",
       "        0.94234717],\n",
       "       [0.18065693, 0.30210709, 0.18065693, ..., 0.39113823, 0.69163435,\n",
       "        0.94998859],\n",
       "       ...,\n",
       "       [0.98266423, 0.65780395, 0.65780395, ..., 0.64571453, 0.32742644,\n",
       "        0.6820398 ],\n",
       "       [0.96404539, 0.94060789, 0.65780395, ..., 0.74300011, 0.3505503 ,\n",
       "        0.87110801],\n",
       "       [0.95637546, 0.96404539, 0.98266423, ..., 0.81823107, 0.49897354,\n",
       "        0.86878422]])"
      ]
     },
     "execution_count": 30,
     "metadata": {},
     "output_type": "execute_result"
    }
   ],
   "source": [
    "vGetCdf(imgGray)"
   ]
  },
  {
   "cell_type": "code",
   "execution_count": 31,
   "metadata": {},
   "outputs": [],
   "source": [
    "# finding a cdf for every element\n",
    "cdfValues = cdfDict.values()\n",
    "\n"
   ]
  },
  {
   "cell_type": "code",
   "execution_count": 32,
   "metadata": {},
   "outputs": [],
   "source": [
    "def scale(pixel):\n",
    "    return pixel*255\n",
    "\n",
    "vScale = np.vectorize(scale)"
   ]
  },
  {
   "cell_type": "code",
   "execution_count": 33,
   "metadata": {},
   "outputs": [],
   "source": [
    "## scaled each value in the image by 255\n",
    "scaledValues = vScale(list(cdfValues))\n",
    "\n",
    "lookUpTable = dict(zip(np.array(list(cdfDict.keys())), np.array(scaledValues) ))\n"
   ]
  },
  {
   "cell_type": "code",
   "execution_count": 34,
   "metadata": {},
   "outputs": [],
   "source": [
    "def addValuesFromLUT(pixel):\n",
    "    \"\"\"function that replaces the values in the image with the values found in scaled cdf\"\"\"\n",
    "    return lookUpTable[pixel]\n",
    "\n",
    "vLookUpTable = np.vectorize(addValuesFromLUT)"
   ]
  },
  {
   "cell_type": "code",
   "execution_count": 35,
   "metadata": {},
   "outputs": [],
   "source": [
    "equalized = vLookUpTable(img).astype(np.uint8)"
   ]
  },
  {
   "cell_type": "code",
   "execution_count": 36,
   "metadata": {},
   "outputs": [
    {
     "name": "stdout",
     "output_type": "stream",
     "text": [
      "[[ 14  25  32 ...  39 127 174]\n",
      " [147 189  25 ... 120 103 240]\n",
      " [ 46  77  46 ...  99 176 242]\n",
      " ...\n",
      " [250 167 167 ... 164  83 173]\n",
      " [245 239 167 ... 189  89 222]\n",
      " [243 245 250 ... 208 127 221]]\n"
     ]
    }
   ],
   "source": [
    "print(equalized)"
   ]
  },
  {
   "cell_type": "code",
   "execution_count": 37,
   "metadata": {},
   "outputs": [],
   "source": [
    "show(\"histogram wualized \",equalized)\n",
    "show(\"original \",img)"
   ]
  },
  {
   "cell_type": "code",
   "execution_count": 19,
   "metadata": {},
   "outputs": [
    {
     "data": {
      "text/plain": [
       "True"
      ]
     },
     "execution_count": 19,
     "metadata": {},
     "output_type": "execute_result"
    }
   ],
   "source": [
    "cv.imwrite(\"enh_wiki_by_cdf.jpg\",equalized)"
   ]
  },
  {
   "cell_type": "code",
   "execution_count": 161,
   "metadata": {},
   "outputs": [],
   "source": [
    "byCv = cv.equalizeHist(img)\n",
    "show(\"original \",img)\n",
    "show(\"by cv \",byCv)\n",
    "show(\"by us \",equalized)"
   ]
  }
 ],
 "metadata": {
  "kernelspec": {
   "display_name": "Python 3",
   "language": "python",
   "name": "python3"
  },
  "language_info": {
   "codemirror_mode": {
    "name": "ipython",
    "version": 3
   },
   "file_extension": ".py",
   "mimetype": "text/x-python",
   "name": "python",
   "nbconvert_exporter": "python",
   "pygments_lexer": "ipython3",
   "version": "3.10.12"
  }
 },
 "nbformat": 4,
 "nbformat_minor": 2
}
